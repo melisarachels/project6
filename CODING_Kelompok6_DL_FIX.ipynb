{
  "cells": [
    {
      "cell_type": "code",
      "execution_count": null,
      "metadata": {
        "id": "7HXJ1VzOoFns"
      },
      "outputs": [],
      "source": [
        "import numpy as np\n",
        "import pandas as pd \n",
        "from tqdm import tqdm\n",
        "from sklearn.model_selection import train_test_split\n",
        "import tensorflow as tf\n",
        "from keras.models import Sequential\n",
        "from keras.layers import LSTM, Activation, Dense, Dropout, Input, Embedding,SimpleRNN,GRU\n",
        "from keras.layers.core import Dense, Activation, Dropout\n",
        "from keras.layers import Embedding\n",
        "from keras.layers import BatchNormalization\n",
        "from keras.utils import np_utils\n",
        "from sklearn import preprocessing, decomposition, model_selection, metrics, pipeline\n",
        "from sklearn.metrics import accuracy_score, classification_report, confusion_matrix\n",
        "from keras.preprocessing import sequence, text\n",
        "from keras.callbacks import ModelCheckpoint, ReduceLROnPlateau\n",
        "from keras import callbacks\n",
        "from sklearn.preprocessing import LabelEncoder\n",
        "import matplotlib.pyplot as plt\n",
        "import seaborn as sns\n",
        "from keras.models import Model\n",
        "from keras.preprocessing.text import Tokenizer\n",
        "from keras.optimizers import RMSprop\n",
        "%matplotlib inline\n",
        "from plotly import graph_objs as go\n",
        "import plotly.express as px\n",
        "import plotly.figure_factory as ff\n",
        "import re\n",
        "import nltk\n",
        "from nltk.corpus import stopwords\n",
        "from nltk.stem import PorterStemmer\n",
        "tqdm.pandas()\n",
        "import seaborn as sns\n",
        "from imblearn.over_sampling import SMOTE     \n",
        "from collections import Counter\n",
        "from sklearn.metrics import precision_score, recall_score, f1_score,accuracy_score"
      ]
    },
    {
      "cell_type": "code",
      "execution_count": null,
      "metadata": {
        "colab": {
          "base_uri": "https://localhost:8080/"
        },
        "id": "X9SNyoqiEiGM",
        "outputId": "692d2cab-71c5-49a6-ed62-af6e090f6753"
      },
      "outputs": [
        {
          "name": "stderr",
          "output_type": "stream",
          "text": [
            "[nltk_data] Downloading package stopwords to /root/nltk_data...\n",
            "[nltk_data]   Unzipping corpora/stopwords.zip.\n",
            "[nltk_data] Downloading package punkt to /root/nltk_data...\n",
            "[nltk_data]   Unzipping tokenizers/punkt.zip.\n"
          ]
        },
        {
          "data": {
            "text/plain": [
              "True"
            ]
          },
          "execution_count": 2,
          "metadata": {},
          "output_type": "execute_result"
        }
      ],
      "source": [
        "nltk.download('stopwords')\n",
        "import nltk \n",
        "nltk.download('punkt')"
      ]
    },
    {
      "cell_type": "code",
      "execution_count": null,
      "metadata": {
        "colab": {
          "base_uri": "https://localhost:8080/"
        },
        "id": "bpCB8pNToG41",
        "outputId": "1e9d3cb2-badc-481a-8cfc-3f4ec51d9aa3"
      },
      "outputs": [
        {
          "name": "stdout",
          "output_type": "stream",
          "text": [
            "<class 'pandas.core.frame.DataFrame'>\n",
            "RangeIndex: 5572 entries, 0 to 5571\n",
            "Data columns (total 2 columns):\n",
            " #   Column  Non-Null Count  Dtype \n",
            "---  ------  --------------  ----- \n",
            " 0   v1      5572 non-null   object\n",
            " 1   v2      5572 non-null   object\n",
            "dtypes: object(2)\n",
            "memory usage: 87.2+ KB\n"
          ]
        }
      ],
      "source": [
        "df= pd.read_csv('/content/drive/MyDrive/Copy of spam.csv',delimiter=',',encoding='latin-1')\n",
        "df.drop(['Unnamed: 2', 'Unnamed: 3', 'Unnamed: 4'],axis=1,inplace=True)\n",
        "df.info()\n",
        "target_classes=[\"Ham\",\"Spam\"]"
      ]
    },
    {
      "cell_type": "code",
      "execution_count": null,
      "metadata": {
        "id": "tBP4BjNwEdpq"
      },
      "outputs": [],
      "source": [
        "def clean_text(text):\n",
        "    # Remove non-alphabetic characters and convert to lowercase\n",
        "    text = re.sub('[^a-zA-Z]', ' ', text).lower()\n",
        "    # Tokenize the text\n",
        "    words = nltk.word_tokenize(text)\n",
        "    # Remove stopwords\n",
        "    words = [w for w in words if w not in stopwords.words('english')]\n",
        "    # Stem the words\n",
        "    stemmer = PorterStemmer()\n",
        "    words = [stemmer.stem(w) for w in words]\n",
        "    # Join the words back into a string\n",
        "    text = ' '.join(words)\n",
        "    return text"
      ]
    },
    {
      "cell_type": "code",
      "execution_count": null,
      "metadata": {
        "colab": {
          "base_uri": "https://localhost:8080/"
        },
        "id": "BB_bnnJbzT-P",
        "outputId": "74a4068e-1bbf-466e-8ebc-3d0a9564ae4a"
      },
      "outputs": [
        {
          "name": "stdout",
          "output_type": "stream",
          "text": [
            "Mounted at /content/drive\n"
          ]
        }
      ],
      "source": [
        "from google.colab import drive\n",
        "drive.mount('/content/drive')"
      ]
    },
    {
      "cell_type": "code",
      "execution_count": null,
      "metadata": {
        "id": "X1wsF3-QoXyR"
      },
      "outputs": [],
      "source": [
        "X = df.v2\n",
        "Y = df.v1\n",
        "Y = LabelEncoder().fit_transform(Y)"
      ]
    },
    {
      "cell_type": "code",
      "execution_count": null,
      "metadata": {
        "colab": {
          "base_uri": "https://localhost:8080/"
        },
        "id": "qu-dmMAdElci",
        "outputId": "bbb9ef30-87d0-4fe0-b197-becd1451cbea"
      },
      "outputs": [
        {
          "name": "stderr",
          "output_type": "stream",
          "text": [
            "100%|██████████| 5572/5572 [00:16<00:00, 345.69it/s]\n"
          ]
        }
      ],
      "source": [
        "# cleaning text and stemming\n",
        "X = X.progress_apply(clean_text)"
      ]
    },
    {
      "cell_type": "code",
      "execution_count": null,
      "metadata": {
        "colab": {
          "base_uri": "https://localhost:8080/",
          "height": 430
        },
        "id": "y30scaTABv8p",
        "outputId": "8d5b01d6-9706-45cd-f26c-4d52cdb18199"
      },
      "outputs": [
        {
          "data": {
            "image/png": "[encoded data removed]",
            "text/plain": [
              "<Figure size 640x480 with 1 Axes>"
            ]
          },
          "metadata": {},
          "output_type": "display_data"
        }
      ],
      "source": [
        "sns.histplot(data=Y)\n",
        "plt.show()"
      ]
    },
    {
      "cell_type": "code",
      "execution_count": null,
      "metadata": {
        "id": "q9CQupCeo6cm"
      },
      "outputs": [],
      "source": [
        "max_words = 1000\n",
        "max_len = 150\n",
        "tok = Tokenizer(num_words=max_words)\n",
        "tok.fit_on_texts(X)\n",
        "sequences = tok.texts_to_sequences(X)\n",
        "sequences_matrix = tf.keras.preprocessing.sequence.pad_sequences(sequences,maxlen=max_len)"
      ]
    },
    {
      "cell_type": "code",
      "execution_count": null,
      "metadata": {
        "colab": {
          "base_uri": "https://localhost:8080/"
        },
        "id": "PzPvRQmbohPs",
        "outputId": "1c98ca43-00bb-498b-a9af-d38f3623c179"
      },
      "outputs": [
        {
          "name": "stdout",
          "output_type": "stream",
          "text": [
            "Original dataset shape Counter({0: 4825, 1: 747})\n",
            "Resampled dataset shape Counter({0: 4825, 1: 4825})\n"
          ]
        }
      ],
      "source": [
        "print('Original dataset shape %s' % Counter(Y))\n",
        "\n",
        "sm = SMOTE(random_state=42)\n",
        "X, Y = sm.fit_resample(sequences_matrix, Y)\n",
        "print('Resampled dataset shape %s' % Counter(Y))"
      ]
    },
    {
      "cell_type": "code",
      "execution_count": null,
      "metadata": {
        "colab": {
          "base_uri": "https://localhost:8080/",
          "height": 430
        },
        "id": "OsL3uK1zEKSx",
        "outputId": "822d397c-90b4-4e8b-e930-bca8276048d7"
      },
      "outputs": [
        {
          "data": {
            "image/png": "[encoded data removed]",
            "text/plain": [
              "<Figure size 640x480 with 1 Axes>"
            ]
          },
          "metadata": {},
          "output_type": "display_data"
        }
      ],
      "source": [
        "sns.histplot(data=Y)\n",
        "plt.show()"
      ]
    },
    {
      "cell_type": "code",
      "execution_count": null,
      "metadata": {
        "colab": {
          "base_uri": "https://localhost:8080/"
        },
        "id": "oQCEtW1jA_a_",
        "outputId": "228afd2f-08d0-4704-a1f9-ecad9b29347c"
      },
      "outputs": [
        {
          "name": "stdout",
          "output_type": "stream",
          "text": [
            "Looking in indexes: https://pypi.org/simple, https://us-python.pkg.dev/colab-wheels/public/simple/\n",
            "Collecting fast_ml\n",
            "  Downloading fast_ml-3.68-py3-none-any.whl (42 kB)\n",
            "\u001b[2K     \u001b[90m━━━━━━━━━━━━━━━━━━━━━━━━━━━━━━━━━━━━━━━━\u001b[0m \u001b[32m42.1/42.1 kB\u001b[0m \u001b[31m3.6 MB/s\u001b[0m eta \u001b[36m0:00:00\u001b[0m\n",
            "\u001b[?25hInstalling collected packages: fast_ml\n",
            "Successfully installed fast_ml-3.68\n"
          ]
        }
      ],
      "source": [
        "!pip install fast_ml"
      ]
    },
    {
      "cell_type": "code",
      "execution_count": null,
      "metadata": {
        "id": "zZZuludiozOh"
      },
      "outputs": [],
      "source": [
        "xtrain, xtest, ytrain, ytest = train_test_split(X, Y,stratify=Y, \n",
        "                                                  random_state=42, \n",
        "                                                  test_size=0.3, shuffle=True)\n",
        "xtest,xval,ytest,yval=train_test_split(xtest,ytest,stratify=ytest,random_state=42,test_size=0.33,shuffle=True)"
      ]
    },
    {
      "cell_type": "code",
      "execution_count": null,
      "metadata": {
        "id": "oGdfq01bHjDs"
      },
      "outputs": [],
      "source": [
        "from tensorflow.keras import regularizers"
      ]
    },
    {
      "cell_type": "code",
      "execution_count": null,
      "metadata": {
        "id": "MaLzKkAnul9u"
      },
      "outputs": [],
      "source": [
        "def RNN():\n",
        "    model = Sequential()\n",
        "    model.add(Embedding(max_words,50,input_length=max_len))\n",
        "    model.add(LSTM(64,kernel_regularizer=regularizers.l2(0.01)))\n",
        "    model.add(Dense(256,name='FC1'))\n",
        "    model.add(Activation('relu'))\n",
        "    model.add(Dropout(0.7))\n",
        "    model.add(Dense(1,name='out_layer'))\n",
        "    model.add(Activation('relu'))\n",
        "    return model"
      ]
    },
    {
      "cell_type": "code",
      "execution_count": null,
      "metadata": {
        "colab": {
          "base_uri": "https://localhost:8080/"
        },
        "id": "UBpW33r0usV-",
        "outputId": "0b890879-293d-4e22-b0b8-caaa6bc5f70f"
      },
      "outputs": [
        {
          "name": "stdout",
          "output_type": "stream",
          "text": [
            "Model: \"sequential\"\n",
            "_________________________________________________________________\n",
            " Layer (type)                Output Shape              Param #   \n",
            "=================================================================\n",
            " embedding (Embedding)       (None, 150, 50)           50000     \n",
            "                                                                 \n",
            " lstm (LSTM)                 (None, 64)                29440     \n",
            "                                                                 \n",
            " FC1 (Dense)                 (None, 256)               16640     \n",
            "                                                                 \n",
            " activation (Activation)     (None, 256)               0         \n",
            "                                                                 \n",
            " dropout (Dropout)           (None, 256)               0         \n",
            "                                                                 \n",
            " out_layer (Dense)           (None, 1)                 257       \n",
            "                                                                 \n",
            " activation_1 (Activation)   (None, 1)                 0         \n",
            "                                                                 \n",
            "=================================================================\n",
            "Total params: 96,337\n",
            "Trainable params: 96,337\n",
            "Non-trainable params: 0\n",
            "_________________________________________________________________\n"
          ]
        }
      ],
      "source": [
        "model = RNN()\n",
        "model.summary()\n",
        "model.compile(loss='binary_crossentropy',optimizer=RMSprop(learning_rate=0.0001, rho=0.9),metrics=['accuracy'])"
      ]
    },
    {
      "cell_type": "code",
      "execution_count": null,
      "metadata": {
        "id": "dQlcfmI7I3bv"
      },
      "outputs": [],
      "source": [
        "from tensorflow.keras.callbacks import EarlyStopping"
      ]
    },
    {
      "cell_type": "code",
      "execution_count": null,
      "metadata": {
        "id": "oXbP-i0NvrqH"
      },
      "outputs": [],
      "source": [
        "checkpoint = ModelCheckpoint(\n",
        "    'model.h5',\n",
        "    monitor = 'val_loss', \n",
        "    save_best_only = True\n",
        ")\n",
        "reduce_lr = ReduceLROnPlateau(\n",
        "    monitor = 'val_loss', \n",
        "    factor = 0.2, \n",
        "    verbose = 1, \n",
        "    patience = 5,                        \n",
        "    min_lr = 0.001\n",
        ")\n",
        "early_stopper = EarlyStopping(monitor='val_loss', patience=3, restore_best_weights=True)"
      ]
    },
    {
      "cell_type": "code",
      "execution_count": null,
      "metadata": {
        "colab": {
          "base_uri": "https://localhost:8080/"
        },
        "id": "2GT29RNhvTTh",
        "outputId": "25ee170c-86fe-47e2-de27-8dcfa5ac2612"
      },
      "outputs": [
        {
          "name": "stdout",
          "output_type": "stream",
          "text": [
            "Epoch 1/7\n",
            "212/212 [==============================] - 30s 124ms/step - loss: 1.9508 - accuracy: 0.5090 - val_loss: 1.1854 - val_accuracy: 0.8504 - lr: 1.0000e-04\n",
            "Epoch 2/7\n",
            "212/212 [==============================] - 30s 142ms/step - loss: 1.0169 - accuracy: 0.7661 - val_loss: 0.8629 - val_accuracy: 0.8504 - lr: 1.0000e-04\n",
            "Epoch 3/7\n",
            "212/212 [==============================] - 25s 119ms/step - loss: 0.8315 - accuracy: 0.8403 - val_loss: 0.7115 - val_accuracy: 0.8734 - lr: 1.0000e-04\n",
            "Epoch 4/7\n",
            "212/212 [==============================] - 24s 112ms/step - loss: 0.6726 - accuracy: 0.8616 - val_loss: 0.5998 - val_accuracy: 0.8808 - lr: 1.0000e-04\n",
            "Epoch 5/7\n",
            "212/212 [==============================] - 24s 113ms/step - loss: 0.5733 - accuracy: 0.8767 - val_loss: 0.5813 - val_accuracy: 0.9069 - lr: 1.0000e-04\n",
            "Epoch 6/7\n",
            "212/212 [==============================] - 26s 120ms/step - loss: 0.5199 - accuracy: 0.8944 - val_loss: 0.5128 - val_accuracy: 0.9017 - lr: 1.0000e-04\n",
            "Epoch 7/7\n",
            "212/212 [==============================] - 24s 112ms/step - loss: 0.4710 - accuracy: 0.8980 - val_loss: 0.5219 - val_accuracy: 0.9079 - lr: 1.0000e-04\n"
          ]
        }
      ],
      "source": [
        "history = model.fit(\n",
        "    xtrain, \n",
        "    ytrain, \n",
        "    epochs = 7,\n",
        "    batch_size = 32,\n",
        "    validation_data = (xval, yval),\n",
        "    verbose = 1,\n",
        "    callbacks = [reduce_lr, checkpoint,early_stopper]\n",
        ")"
      ]
    },
    {
      "cell_type": "code",
      "execution_count": null,
      "metadata": {
        "colab": {
          "base_uri": "https://localhost:8080/"
        },
        "id": "TBQX1-SfxvxG",
        "outputId": "b8eea06b-cb08-452e-c183-9d48f271f130"
      },
      "outputs": [
        {
          "name": "stdout",
          "output_type": "stream",
          "text": [
            "61/61 [==============================] - 2s 38ms/step - loss: 0.5122 - accuracy: 0.8948\n"
          ]
        }
      ],
      "source": [
        "accr = model.evaluate(xtest,ytest)"
      ]
    },
    {
      "cell_type": "code",
      "execution_count": null,
      "metadata": {
        "colab": {
          "base_uri": "https://localhost:8080/"
        },
        "id": "65JxTMxRz2iC",
        "outputId": "71d4ee89-4c4a-424c-f45d-4377421c72f0"
      },
      "outputs": [
        {
          "name": "stdout",
          "output_type": "stream",
          "text": [
            "61/61 [==============================] - 2s 24ms/step\n",
            "\n",
            "Classification Report : \n",
            "              precision    recall  f1-score   support\n",
            "\n",
            "         Ham       0.88      0.91      0.90       970\n",
            "        Spam       0.91      0.88      0.89       969\n",
            "\n",
            "    accuracy                           0.89      1939\n",
            "   macro avg       0.90      0.89      0.89      1939\n",
            "weighted avg       0.90      0.89      0.89      1939\n",
            "\n"
          ]
        },
        {
          "data": {
            "text/plain": [
              "array([[885,  85],\n",
              "       [119, 850]])"
            ]
          },
          "execution_count": 24,
          "metadata": {},
          "output_type": "execute_result"
        }
      ],
      "source": [
        "y_preds = (model.predict(xtest)>0.5)\n",
        "print(\"\\nClassification Report : \")\n",
        "print(classification_report(ytest, y_preds, target_names=target_classes))\n",
        "metrics.confusion_matrix(ytest, y_preds)"
      ]
    },
    {
      "cell_type": "code",
      "execution_count": null,
      "metadata": {
        "id": "2jNkfv0bOgfm"
      },
      "outputs": [],
      "source": [
        "def plot_learning_curves(history, arr):\n",
        "    fig, ax = plt.subplots(1, 2, figsize=(20, 5))\n",
        "    for idx in range(2):\n",
        "        ax[idx].plot(history.history[arr[idx][0]])\n",
        "        ax[idx].plot(history.history[arr[idx][1]])\n",
        "        ax[idx].legend([arr[idx][0], arr[idx][1]],fontsize=18)\n",
        "        ax[idx].set_xlabel('A ',fontsize=16)\n",
        "        ax[idx].set_ylabel('B',fontsize=16)\n",
        "        ax[idx].set_title(arr[idx][0] + ' X ' + arr[idx][1],fontsize=16)"
      ]
    },
    {
      "cell_type": "code",
      "execution_count": null,
      "metadata": {
        "colab": {
          "base_uri": "https://localhost:8080/",
          "height": 330
        },
        "id": "pmcLtW9E2ym9",
        "outputId": "4de700e8-4c45-4553-ca3c-5ba8f440accf"
      },
      "outputs": [
        {
          "data": {
            "image/png": "[encoded data removed]",
            "text/plain": [
              "<Figure size 2000x500 with 2 Axes>"
            ]
          },
          "metadata": {},
          "output_type": "display_data"
        }
      ],
      "source": [
        "plot_learning_curves(history, [['loss', 'val_loss'],['accuracy', 'val_accuracy']])"
      ]
    },
    {
      "cell_type": "code",
      "execution_count": null,
      "metadata": {
        "id": "cJUdfTW7OqSH"
      },
      "outputs": [],
      "source": [
        "scored_model_texttosequence=[]"
      ]
    },
    {
      "cell_type": "code",
      "execution_count": null,
      "metadata": {
        "id": "CNEpyIx0Nlt9"
      },
      "outputs": [],
      "source": [
        "accr = accuracy_score(ytest,y_preds)\n",
        "prec = precision_score(ytest, y_preds, average='weighted')\n",
        "rec = recall_score(ytest, y_preds, average='weighted')\n",
        "f1 = f1_score(ytest, y_preds, average='weighted')\n",
        "scored_model_texttosequence.append({'Model': 'LSTM','Precision': prec,'Accuracy':accr,'Recall':rec,'f1':f1})"
      ]
    },
    {
      "cell_type": "code",
      "execution_count": null,
      "metadata": {
        "colab": {
          "base_uri": "https://localhost:8080/"
        },
        "id": "VV5kYwPGMjYW",
        "outputId": "c04397fd-0a3b-4aad-bbe6-a954a4f6ac4e"
      },
      "outputs": [
        {
          "data": {
            "text/plain": [
              "[{'Model': 'LSTM',\n",
              "  'Precision': 0.8952753849340787,\n",
              "  'Accuracy': 0.8947911294481692,\n",
              "  'Recall': 0.8947911294481692,\n",
              "  'f1': 0.8947578186355576}]"
            ]
          },
          "execution_count": 29,
          "metadata": {},
          "output_type": "execute_result"
        }
      ],
      "source": [
        "scored_model_texttosequence"
      ]
    },
    {
      "cell_type": "code",
      "execution_count": null,
      "metadata": {
        "id": "Oz3RBD3s2ywf"
      },
      "outputs": [],
      "source": [
        "def GRU_MODEL():\n",
        "     model = Sequential()\n",
        "     model.add(Embedding(max_words,50,input_length=max_len))\n",
        "     model.add(Dropout(0.5))\n",
        "     model.add(GRU(300))\n",
        "     model.add(Dense(256,activation='relu'))\n",
        "     model.add(Dense(1, activation='relu'))\n",
        "     model.compile(loss='binary_crossentropy', optimizer='adam',metrics=['accuracy'])   \n",
        "     return model"
      ]
    },
    {
      "cell_type": "code",
      "execution_count": null,
      "metadata": {
        "colab": {
          "base_uri": "https://localhost:8080/"
        },
        "id": "3768Mb3Bft0Q",
        "outputId": "1d0d0035-0831-40bd-e5ed-f8b5710a6dc8"
      },
      "outputs": [
        {
          "name": "stdout",
          "output_type": "stream",
          "text": [
            "Model: \"sequential_1\"\n",
            "_________________________________________________________________\n",
            " Layer (type)                Output Shape              Param #   \n",
            "=================================================================\n",
            " embedding_1 (Embedding)     (None, 150, 50)           50000     \n",
            "                                                                 \n",
            " dropout_1 (Dropout)         (None, 150, 50)           0         \n",
            "                                                                 \n",
            " gru (GRU)                   (None, 300)               316800    \n",
            "                                                                 \n",
            " dense (Dense)               (None, 256)               77056     \n",
            "                                                                 \n",
            " dense_1 (Dense)             (None, 1)                 257       \n",
            "                                                                 \n",
            "=================================================================\n",
            "Total params: 444,113\n",
            "Trainable params: 444,113\n",
            "Non-trainable params: 0\n",
            "_________________________________________________________________\n"
          ]
        }
      ],
      "source": [
        "model = GRU_MODEL()\n",
        "model.summary()\n",
        "model.compile(loss='binary_crossentropy',optimizer=RMSprop(learning_rate=0.0001, rho=0.7),metrics=['accuracy'])"
      ]
    },
    {
      "cell_type": "code",
      "execution_count": null,
      "metadata": {
        "colab": {
          "background_save": true,
          "base_uri": "https://localhost:8080/"
        },
        "id": "smBlyin3SYUA",
        "outputId": "e2b649b7-83b2-4ebc-f18b-22a21991f711"
      },
      "outputs": [
        {
          "name": "stdout",
          "output_type": "stream",
          "text": [
            "Epoch 1/20\n",
            "212/212 [==============================] - 140s 642ms/step - loss: 0.8695 - accuracy: 0.7264 - val_loss: 0.5030 - val_accuracy: 0.8368 - lr: 1.0000e-04\n",
            "Epoch 2/20\n",
            "212/212 [==============================] - 135s 636ms/step - loss: 0.4333 - accuracy: 0.8463 - val_loss: 0.4276 - val_accuracy: 0.8734 - lr: 1.0000e-04\n",
            "Epoch 3/20\n",
            "212/212 [==============================] - 138s 649ms/step - loss: 0.4366 - accuracy: 0.8628 - val_loss: 0.3966 - val_accuracy: 0.8713 - lr: 1.0000e-04\n",
            "Epoch 4/20\n",
            "212/212 [==============================] - 135s 639ms/step - loss: 0.4233 - accuracy: 0.8786 - val_loss: 0.4032 - val_accuracy: 0.8881 - lr: 1.0000e-04\n",
            "Epoch 5/20\n",
            "212/212 [==============================] - 146s 689ms/step - loss: 0.3978 - accuracy: 0.8789 - val_loss: 0.4344 - val_accuracy: 0.8881 - lr: 1.0000e-04\n",
            "Epoch 6/20\n",
            "212/212 [==============================] - 125s 590ms/step - loss: 0.4237 - accuracy: 0.8839 - val_loss: 0.4208 - val_accuracy: 0.8944 - lr: 1.0000e-04\n"
          ]
        }
      ],
      "source": [
        "history = model.fit(\n",
        "    xtrain, \n",
        "    ytrain, \n",
        "    epochs = 20,\n",
        "    batch_size = 32,\n",
        "    validation_data = (xval, yval),\n",
        "    verbose = 1,\n",
        "    callbacks = [reduce_lr, checkpoint,early_stopper]\n",
        ")"
      ]
    },
    {
      "cell_type": "code",
      "execution_count": null,
      "metadata": {
        "colab": {
          "background_save": true
        },
        "id": "emRFEJAGV2ra",
        "outputId": "c6d8cbcd-6850-4f75-dab8-797c273cb2bd"
      },
      "outputs": [
        {
          "name": "stdout",
          "output_type": "stream",
          "text": [
            "61/61 [==============================] - 10s 156ms/step\n",
            "\n",
            "Classification Report : \n",
            "              precision    recall  f1-score   support\n",
            "\n",
            "         Ham       0.90      0.82      0.86       970\n",
            "        Spam       0.84      0.91      0.87       969\n",
            "\n",
            "    accuracy                           0.87      1939\n",
            "   macro avg       0.87      0.87      0.87      1939\n",
            "weighted avg       0.87      0.87      0.87      1939\n",
            "\n"
          ]
        },
        {
          "data": {
            "text/plain": [
              "array([[799, 171],\n",
              "       [ 90, 879]])"
            ]
          },
          "execution_count": 33,
          "metadata": {},
          "output_type": "execute_result"
        }
      ],
      "source": [
        "y_preds = (model.predict(xtest)>0.5)\n",
        "print(\"\\nClassification Report : \")\n",
        "print(classification_report(ytest, y_preds, target_names=target_classes))\n",
        "metrics.confusion_matrix(ytest, y_preds)"
      ]
    },
    {
      "cell_type": "code",
      "execution_count": null,
      "metadata": {
        "colab": {
          "background_save": true
        },
        "id": "Z5x6vPpUPHib"
      },
      "outputs": [],
      "source": [
        "accr = accuracy_score(ytest,y_preds)\n",
        "prec = precision_score(ytest, y_preds, average='weighted')\n",
        "rec = recall_score(ytest, y_preds, average='weighted')\n",
        "f1 = f1_score(ytest, y_preds, average='weighted')\n",
        "scored_model_texttosequence.append({'Model': 'GRU','Precision': prec,'Accuracy':accr,'Recall':rec,'f1':f1})"
      ]
    },
    {
      "cell_type": "code",
      "execution_count": null,
      "metadata": {
        "colab": {
          "background_save": true
        },
        "id": "s13K0sgP1lvV",
        "outputId": "3e5f083c-4d09-4a54-aeb8-f0e230a2405b"
      },
      "outputs": [
        {
          "data": {
            "image/png": "[encoded data removed]",
            "text/plain": [
              "<Figure size 2000x500 with 2 Axes>"
            ]
          },
          "metadata": {},
          "output_type": "display_data"
        },
        {
          "data": {
            "image/png": "[encoded data removed]",
            "text/plain": [
              "<Figure size 600x400 with 2 Axes>"
            ]
          },
          "metadata": {},
          "output_type": "display_data"
        }
      ],
      "source": [
        "plot_learning_curves(history, [['loss', 'val_loss'],['accuracy', 'val_accuracy']])\n",
        "cm=metrics.confusion_matrix(ytest, y_preds)\n",
        "plt.figure(figsize=(6, 4))\n",
        "sns.heatmap(cm, annot=True, fmt=\"d\", cmap=\"Blues\")\n",
        "plt.title(\"Confusion Matrix\")\n",
        "plt.xlabel(\"Predicted Labels\")\n",
        "plt.ylabel(\"True Labels\")\n",
        "plt.show()"
      ]
    },
    {
      "cell_type": "code",
      "execution_count": null,
      "metadata": {
        "colab": {
          "base_uri": "https://localhost:8080/"
        },
        "id": "al4kzhRe4vON",
        "outputId": "68bcb3ea-e8b1-4f0a-b519-be954184b607"
      },
      "outputs": [
        {
          "data": {
            "text/plain": [
              "[{'Model': 'GRU',\n",
              "  'Precision': 0.8446428571428571,\n",
              "  'Accuracy': 0.838860103626943,\n",
              "  'Recall': 0.838860103626943,\n",
              "  'f1': 0.8381813157557744},\n",
              " {'Model': 'MultinomialNB',\n",
              "  'Precision': 0.7737337767187732,\n",
              "  'Accuracy': 0.7694300518134715,\n",
              "  'Recall': 0.7694300518134715,\n",
              "  'f1': 0.7685202030370386},\n",
              " {'Model': 'GRU',\n",
              "  'Precision': 0.8319849476461132,\n",
              "  'Accuracy': 0.827979274611399,\n",
              "  'Recall': 0.827979274611399,\n",
              "  'f1': 0.8274588115672284}]"
            ]
          },
          "execution_count": 74,
          "metadata": {},
          "output_type": "execute_result"
        }
      ],
      "source": [
        "scored_model_texttosequence"
      ]
    },
    {
      "cell_type": "code",
      "execution_count": null,
      "metadata": {
        "colab": {
          "background_save": true
        },
        "id": "8QZdWTxcWUC-",
        "outputId": "9b705293-d647-46b3-96ae-2a808c33cdb6"
      },
      "outputs": [
        {
          "data": {
            "text/html": [
              "<style>#sk-container-id-1 {color: black;background-color: white;}#sk-container-id-1 pre{padding: 0;}#sk-container-id-1 div.sk-toggleable {background-color: white;}#sk-container-id-1 label.sk-toggleable__label {cursor: pointer;display: block;width: 100%;margin-bottom: 0;padding: 0.3em;box-sizing: border-box;text-align: center;}#sk-container-id-1 label.sk-toggleable__label-arrow:before {content: \"▸\";float: left;margin-right: 0.25em;color: #696969;}#sk-container-id-1 label.sk-toggleable__label-arrow:hover:before {color: black;}#sk-container-id-1 div.sk-estimator:hover label.sk-toggleable__label-arrow:before {color: black;}#sk-container-id-1 div.sk-toggleable__content {max-height: 0;max-width: 0;overflow: hidden;text-align: left;background-color: #f0f8ff;}#sk-container-id-1 div.sk-toggleable__content pre {margin: 0.2em;color: black;border-radius: 0.25em;background-color: #f0f8ff;}#sk-container-id-1 input.sk-toggleable__control:checked~div.sk-toggleable__content {max-height: 200px;max-width: 100%;overflow: auto;}#sk-container-id-1 input.sk-toggleable__control:checked~label.sk-toggleable__label-arrow:before {content: \"▾\";}#sk-container-id-1 div.sk-estimator input.sk-toggleable__control:checked~label.sk-toggleable__label {background-color: #d4ebff;}#sk-container-id-1 div.sk-label input.sk-toggleable__control:checked~label.sk-toggleable__label {background-color: #d4ebff;}#sk-container-id-1 input.sk-hidden--visually {border: 0;clip: rect(1px 1px 1px 1px);clip: rect(1px, 1px, 1px, 1px);height: 1px;margin: -1px;overflow: hidden;padding: 0;position: absolute;width: 1px;}#sk-container-id-1 div.sk-estimator {font-family: monospace;background-color: #f0f8ff;border: 1px dotted black;border-radius: 0.25em;box-sizing: border-box;margin-bottom: 0.5em;}#sk-container-id-1 div.sk-estimator:hover {background-color: #d4ebff;}#sk-container-id-1 div.sk-parallel-item::after {content: \"\";width: 100%;border-bottom: 1px solid gray;flex-grow: 1;}#sk-container-id-1 div.sk-label:hover label.sk-toggleable__label {background-color: #d4ebff;}#sk-container-id-1 div.sk-serial::before {content: \"\";position: absolute;border-left: 1px solid gray;box-sizing: border-box;top: 0;bottom: 0;left: 50%;z-index: 0;}#sk-container-id-1 div.sk-serial {display: flex;flex-direction: column;align-items: center;background-color: white;padding-right: 0.2em;padding-left: 0.2em;position: relative;}#sk-container-id-1 div.sk-item {position: relative;z-index: 1;}#sk-container-id-1 div.sk-parallel {display: flex;align-items: stretch;justify-content: center;background-color: white;position: relative;}#sk-container-id-1 div.sk-item::before, #sk-container-id-1 div.sk-parallel-item::before {content: \"\";position: absolute;border-left: 1px solid gray;box-sizing: border-box;top: 0;bottom: 0;left: 50%;z-index: -1;}#sk-container-id-1 div.sk-parallel-item {display: flex;flex-direction: column;z-index: 1;position: relative;background-color: white;}#sk-container-id-1 div.sk-parallel-item:first-child::after {align-self: flex-end;width: 50%;}#sk-container-id-1 div.sk-parallel-item:last-child::after {align-self: flex-start;width: 50%;}#sk-container-id-1 div.sk-parallel-item:only-child::after {width: 0;}#sk-container-id-1 div.sk-dashed-wrapped {border: 1px dashed gray;margin: 0 0.4em 0.5em 0.4em;box-sizing: border-box;padding-bottom: 0.4em;background-color: white;}#sk-container-id-1 div.sk-label label {font-family: monospace;font-weight: bold;display: inline-block;line-height: 1.2em;}#sk-container-id-1 div.sk-label-container {text-align: center;}#sk-container-id-1 div.sk-container {/* jupyter's `normalize.less` sets `[hidden] { display: none; }` but bootstrap.min.css set `[hidden] { display: none !important; }` so we also need the `!important` here to be able to override the default hidden behavior on the sphinx rendered scikit-learn.org. See: https://github.com/scikit-learn/scikit-learn/issues/21755 */display: inline-block !important;position: relative;}#sk-container-id-1 div.sk-text-repr-fallback {display: none;}</style><div id=\"sk-container-id-1\" class=\"sk-top-container\"><div class=\"sk-text-repr-fallback\"><pre>MultinomialNB()</pre><b>In a Jupyter environment, please rerun this cell to show the HTML representation or trust the notebook. <br />On GitHub, the HTML representation is unable to render, please try loading this page with nbviewer.org.</b></div><div class=\"sk-container\" hidden><div class=\"sk-item\"><div class=\"sk-estimator sk-toggleable\"><input class=\"sk-toggleable__control sk-hidden--visually\" id=\"sk-estimator-id-1\" type=\"checkbox\" checked><label for=\"sk-estimator-id-1\" class=\"sk-toggleable__label sk-toggleable__label-arrow\">MultinomialNB</label><div class=\"sk-toggleable__content\"><pre>MultinomialNB()</pre></div></div></div></div></div>"
            ],
            "text/plain": [
              "MultinomialNB()"
            ]
          },
          "execution_count": 36,
          "metadata": {},
          "output_type": "execute_result"
        }
      ],
      "source": [
        "from sklearn.naive_bayes import MultinomialNB\n",
        "nb = MultinomialNB()\n",
        "\n",
        "nb.fit(xtrain, ytrain)"
      ]
    },
    {
      "cell_type": "code",
      "execution_count": null,
      "metadata": {
        "colab": {
          "background_save": true
        },
        "id": "0sxj7Z_nXMJb",
        "outputId": "63acee22-06a5-4d84-941f-fe8945cd5ac8"
      },
      "outputs": [
        {
          "name": "stdout",
          "output_type": "stream",
          "text": [
            "\n",
            "Classification Report : \n",
            "              precision    recall  f1-score   support\n",
            "\n",
            "         Ham       0.74      0.81      0.77       970\n",
            "        Spam       0.79      0.71      0.75       969\n",
            "\n",
            "    accuracy                           0.76      1939\n",
            "   macro avg       0.77      0.76      0.76      1939\n",
            "weighted avg       0.77      0.76      0.76      1939\n",
            "\n"
          ]
        },
        {
          "data": {
            "text/plain": [
              "array([[788, 182],\n",
              "       [277, 692]])"
            ]
          },
          "execution_count": 37,
          "metadata": {},
          "output_type": "execute_result"
        }
      ],
      "source": [
        "y_preds = (nb.predict(xtest)>0.5)\n",
        "print(\"\\nClassification Report : \")\n",
        "print(classification_report(ytest, y_preds, target_names=target_classes))\n",
        "metrics.confusion_matrix(ytest, y_preds)"
      ]
    },
    {
      "cell_type": "code",
      "execution_count": null,
      "metadata": {
        "id": "bUnQUz7GPMAL"
      },
      "outputs": [],
      "source": [
        "accr = accuracy_score(ytest,y_preds)\n",
        "prec = precision_score(ytest, y_preds, average='weighted')\n",
        "rec = recall_score(ytest, y_preds, average='weighted')\n",
        "f1 = f1_score(ytest, y_preds, average='weighted')\n",
        "scored_model_texttosequence.append({'Model': 'MultinomialNB','Precision': prec,'Accuracy':accr,'Recall':rec,'f1':f1})"
      ]
    },
    {
      "cell_type": "markdown",
      "metadata": {
        "id": "yJiDy_oCgQIu"
      },
      "source": [
        "Vectorizer"
      ]
    },
    {
      "cell_type": "code",
      "execution_count": null,
      "metadata": {
        "colab": {
          "base_uri": "https://localhost:8080/"
        },
        "id": "TD4Z_Gmec2Ah",
        "outputId": "4c45bce5-8b98-4916-f66f-2eb99df2a47c"
      },
      "outputs": [
        {
          "name": "stdout",
          "output_type": "stream",
          "text": [
            "<class 'pandas.core.frame.DataFrame'>\n",
            "RangeIndex: 5572 entries, 0 to 5571\n",
            "Data columns (total 2 columns):\n",
            " #   Column  Non-Null Count  Dtype \n",
            "---  ------  --------------  ----- \n",
            " 0   v1      5572 non-null   object\n",
            " 1   v2      5572 non-null   object\n",
            "dtypes: object(2)\n",
            "memory usage: 87.2+ KB\n"
          ]
        }
      ],
      "source": [
        "df= pd.read_csv('/content/drive/MyDrive/Copy of spam.csv',delimiter=',',encoding='latin-1')\n",
        "df.drop(['Unnamed: 2', 'Unnamed: 3', 'Unnamed: 4'],axis=1,inplace=True)\n",
        "df.info()\n",
        "target_classes=[\"Ham\",\"Spam\"]"
      ]
    },
    {
      "cell_type": "code",
      "execution_count": null,
      "metadata": {
        "id": "bNonPU_Deld2"
      },
      "outputs": [],
      "source": [
        "X = df.v2\n",
        "Y = df.v1\n",
        "Y = LabelEncoder().fit_transform(Y)"
      ]
    },
    {
      "cell_type": "code",
      "execution_count": null,
      "metadata": {
        "id": "ezZ7XqJdeV1n"
      },
      "outputs": [],
      "source": [
        "from sklearn.feature_extraction.text import CountVectorizer\n",
        "count = CountVectorizer()\n",
        "count.fit(X)\n",
        "X = count.transform(X)"
      ]
    },
    {
      "cell_type": "code",
      "execution_count": null,
      "metadata": {
        "id": "gpu5xCAuc69s"
      },
      "outputs": [],
      "source": [
        "print('Original dataset shape %s' % Counter(Y))\n",
        "\n",
        "sm = SMOTE(random_state=42)\n",
        "X, Y = sm.fit_resample(X, Y)\n",
        "print('Resampled dataset shape %s' % Counter(Y))"
      ]
    },
    {
      "cell_type": "code",
      "execution_count": null,
      "metadata": {
        "id": "CEtvCS_-oKFs"
      },
      "outputs": [],
      "source": [
        "from sklearn.model_selection import learning_curve"
      ]
    },
    {
      "cell_type": "code",
      "execution_count": null,
      "metadata": {
        "id": "ktITGZ89hDrt"
      },
      "outputs": [],
      "source": [
        "xtrain, xtest, ytrain, ytest = train_test_split(X, Y,stratify=Y, \n",
        "                                                  random_state=42, \n",
        "                                                  test_size=0.2, shuffle=True)"
      ]
    },
    {
      "cell_type": "code",
      "execution_count": null,
      "metadata": {
        "colab": {
          "background_save": true
        },
        "id": "RGjokTL8oLGB"
      },
      "outputs": [],
      "source": [
        "classifier = MultinomialNB()\n",
        "\n",
        "# Define the training sizes to use in the learning curve\n",
        "train_sizes = np.linspace(0.1, 1.0, 10)\n",
        "\n",
        "# Compute the learning curve scores\n",
        "train_sizes, train_scores, validation_scores = learning_curve(\n",
        "    classifier, X, Y, train_sizes=train_sizes, cv=5, scoring='accuracy')\n",
        "\n",
        "# Compute the mean and standard deviation of the scores\n",
        "train_scores_mean = np.mean(train_scores, axis=1)\n",
        "train_scores_std = np.std(train_scores, axis=1)\n",
        "validation_scores_mean = np.mean(validation_scores, axis=1)\n",
        "validation_scores_std = np.std(validation_scores, axis=1)"
      ]
    },
    {
      "cell_type": "code",
      "execution_count": null,
      "metadata": {
        "colab": {
          "base_uri": "https://localhost:8080/"
        },
        "id": "PqZ3tnFUhMv9",
        "outputId": "2c5abb2e-d399-4ee4-bf85-eb5642dc1040"
      },
      "outputs": [
        {
          "data": {
            "text/plain": [
              "(1930,)"
            ]
          },
          "execution_count": 81,
          "metadata": {},
          "output_type": "execute_result"
        }
      ],
      "source": [
        "ytest.shape"
      ]
    },
    {
      "cell_type": "code",
      "execution_count": null,
      "metadata": {
        "colab": {
          "base_uri": "https://localhost:8080/"
        },
        "id": "385Vp-1Be9Cx",
        "outputId": "af153088-46fe-4f32-ea45-0d915722dc4a"
      },
      "outputs": [
        {
          "name": "stdout",
          "output_type": "stream",
          "text": [
            "\n",
            "Classification Report : \n",
            "              precision    recall  f1-score   support\n",
            "\n",
            "         Ham       0.84      0.99      0.91       965\n",
            "        Spam       0.99      0.82      0.89       965\n",
            "\n",
            "    accuracy                           0.90      1930\n",
            "   macro avg       0.91      0.90      0.90      1930\n",
            "weighted avg       0.91      0.90      0.90      1930\n",
            "\n"
          ]
        },
        {
          "data": {
            "text/plain": [
              "array([[953,  12],\n",
              "       [175, 790]])"
            ]
          },
          "execution_count": 82,
          "metadata": {},
          "output_type": "execute_result"
        }
      ],
      "source": [
        "nb.fit(xtrain, ytrain)\n",
        "y_preds1 = (nb.predict(xtest)>0.5)\n",
        "print(\"\\nClassification Report : \")\n",
        "print(classification_report(ytest, y_preds1, target_names=target_classes))\n",
        "metrics.confusion_matrix(ytest, y_preds1)"
      ]
    },
    {
      "cell_type": "code",
      "execution_count": null,
      "metadata": {
        "id": "JyT5Hl04Prg5"
      },
      "outputs": [],
      "source": [
        "scored_model_countvectorizer=[]"
      ]
    },
    {
      "cell_type": "code",
      "execution_count": null,
      "metadata": {
        "id": "cPoIARMLPp8v"
      },
      "outputs": [],
      "source": [
        "accr = accuracy_score(ytest,y_preds1)\n",
        "prec = precision_score(ytest, y_preds1, average='weighted')\n",
        "rec = recall_score(ytest, y_preds1, average='weighted')\n",
        "f1 = f1_score(ytest, y_preds1, average='weighted')\n",
        "scored_model_countvectorizer.append({'Model': 'MultinomialNB','Precision': prec,'Accuracy':accr,'Recall':rec,'f1':f1})"
      ]
    },
    {
      "cell_type": "markdown",
      "metadata": {
        "id": "RYV1b9LglhE1"
      },
      "source": [
        "LSTM-VECTOR"
      ]
    },
    {
      "cell_type": "code",
      "source": [
        "xtrain, xtest, ytrain, ytest = train_test_split(X, Y,stratify=Y, \n",
        "                                                  random_state=42, \n",
        "                                                  test_size=0.3, shuffle=True)\n",
        "xtest,xval,ytest,yval=train_test_split(xtest,ytest,stratify=ytest,random_state=42,test_size=0.33,shuffle=True)"
      ],
      "metadata": {
        "id": "fg9UIT4OH8uC"
      },
      "execution_count": null,
      "outputs": []
    },
    {
      "cell_type": "code",
      "execution_count": null,
      "metadata": {
        "id": "hhir4y2DxT9O"
      },
      "outputs": [],
      "source": [
        "vector_X = xtrain_nu[:,:,None]\n",
        "vector_XT= xtest_num_array[:,:,None]"
      ]
    },
    {
      "cell_type": "code",
      "execution_count": null,
      "metadata": {
        "id": "WuHmpEL_TZNR"
      },
      "outputs": [],
      "source": [
        "vector_X.shape"
      ]
    },
    {
      "cell_type": "code",
      "execution_count": null,
      "metadata": {
        "id": "6Y_O2fW0LkwD"
      },
      "outputs": [],
      "source": [
        "xtrain_num_array.shape"
      ]
    },
    {
      "cell_type": "code",
      "execution_count": null,
      "metadata": {
        "id": "965rattpOGs-"
      },
      "outputs": [],
      "source": [
        "from sklearn.preprocessing import LabelBinarizer"
      ]
    },
    {
      "cell_type": "code",
      "execution_count": null,
      "metadata": {
        "id": "rwoJsMefOEj-"
      },
      "outputs": [],
      "source": [
        "lab = LabelBinarizer()\n",
        "lab.fit(ytest)\n",
        "y_tf = lab.transform(ytest)"
      ]
    },
    {
      "cell_type": "code",
      "execution_count": null,
      "metadata": {
        "id": "leBFWgroxDEU"
      },
      "outputs": [],
      "source": [
        "def RNN2():\n",
        "    model = Sequential()\n",
        "    model.add(Embedding(max_words,50,input_length=None))\n",
        "    model.add(LSTM(64))\n",
        "    model.add(Dense(256))\n",
        "    model.add(Activation('relu'))\n",
        "    model.add(Dropout(0.9))\n",
        "    model.add(Dense(1,name='out_layer'))\n",
        "    model.add(Activation('relu'))\n",
        "    return model"
      ]
    },
    {
      "cell_type": "code",
      "execution_count": null,
      "metadata": {
        "colab": {
          "base_uri": "https://localhost:8080/"
        },
        "id": "MXAiA14ApaGi",
        "outputId": "594b30b1-1228-4864-b549-159dcc3dba20"
      },
      "outputs": [
        {
          "name": "stdout",
          "output_type": "stream",
          "text": [
            "Model: \"sequential_11\"\n",
            "_________________________________________________________________\n",
            " Layer (type)                Output Shape              Param #   \n",
            "=================================================================\n",
            " embedding_11 (Embedding)    (None, None, 50)          50000     \n",
            "                                                                 \n",
            " lstm_1 (LSTM)               (None, 64)                29440     \n",
            "                                                                 \n",
            " dense_21 (Dense)            (None, 256)               16640     \n",
            "                                                                 \n",
            " activation_2 (Activation)   (None, 256)               0         \n",
            "                                                                 \n",
            " dropout_11 (Dropout)        (None, 256)               0         \n",
            "                                                                 \n",
            " out_layer (Dense)           (None, 1)                 257       \n",
            "                                                                 \n",
            " activation_3 (Activation)   (None, 1)                 0         \n",
            "                                                                 \n",
            "=================================================================\n",
            "Total params: 96,337\n",
            "Trainable params: 96,337\n",
            "Non-trainable params: 0\n",
            "_________________________________________________________________\n"
          ]
        }
      ],
      "source": [
        "model3 = RNN2()\n",
        "model3.summary()\n",
        "model3.compile(loss='binary_crossentropy',optimizer=RMSprop(learning_rate=0.0001, rho=0.9),metrics=['accuracy'])"
      ]
    },
    {
      "cell_type": "code",
      "execution_count": null,
      "metadata": {
        "colab": {
          "base_uri": "https://localhost:8080/"
        },
        "id": "84Za52q2pfzK",
        "outputId": "c98d9c79-d317-4b02-b9b4-a316026b93f7"
      },
      "outputs": [
        {
          "name": "stdout",
          "output_type": "stream",
          "text": [
            "Epoch 1/7\n",
            " 23/242 [=>............................] - ETA: 1:01 - loss: 3.4477 - accuracy: 0.5041"
          ]
        }
      ],
      "source": [
        "history_LSTM = model3.fit(\n",
        "    xtrain, ytrain,\n",
        "    epochs = 7,\n",
        "    batch_size = 32,\n",
        "    validation_data = (xval, yval),\n",
        "    verbose = 1,\n",
        "    callbacks = [reduce_lr, checkpoint]\n",
        ")"
      ]
    },
    {
      "cell_type": "code",
      "execution_count": null,
      "metadata": {
        "id": "weGrCSY4f9Y7"
      },
      "outputs": [],
      "source": [
        "y_preds = (model3.predict(xtest)>0.5).astype(int)\n",
        "y_preds_flat=y_preds.flatten()\n",
        "print(\"\\nClassification Report : \")\n",
        "print(classification_report(ytest, y_preds_flat, target_names=target_classes))\n",
        "metrics.confusion_matrix(ytest, y_preds)"
      ]
    },
    {
      "cell_type": "code",
      "execution_count": null,
      "metadata": {
        "id": "d-YYPwLcP6un"
      },
      "outputs": [],
      "source": [
        "accr = accuracy_score(ytest,y_preds)\n",
        "prec = precision_score(ytest, y_preds, average='weighted')\n",
        "rec = recall_score(ytest, y_preds, average='weighted')\n",
        "f1 = f1_score(ytest, y_preds, average='weighted')\n",
        "scored_model_countvectorizer.append({'Model': 'LSTM','Precision': prec,'Accuracy':accr,'Recall':rec,'f1':f1})"
      ]
    },
    {
      "cell_type": "code",
      "execution_count": null,
      "metadata": {
        "id": "sblc7sT3hSnt"
      },
      "outputs": [],
      "source": [
        "def GRU_MODEL2():\n",
        "     model = Sequential()\n",
        "     model.add(Embedding(max_words,50,input_length=None))\n",
        "     model.add(Dropout(0.5))\n",
        "     model.add(GRU(300))\n",
        "     model.add(Dense(256,name='FC1',activation='relu'))\n",
        "     model.add(Dense(1, activation='sigmoid'))\n",
        "     model.compile(loss='binary_crossentropy', optimizer='adam',metrics=['accuracy'])   \n",
        "     return model"
      ]
    },
    {
      "cell_type": "code",
      "execution_count": null,
      "metadata": {
        "id": "yxlGY28RZnzl"
      },
      "outputs": [],
      "source": [
        "model4 = GRU_MODEL2()\n",
        "model4.summary()\n",
        "model4.compile(loss='binary_crossentropy',optimizer=RMSprop(learning_rate=0.0001, rho=0.9),metrics=['accuracy'])"
      ]
    },
    {
      "cell_type": "code",
      "execution_count": null,
      "metadata": {
        "id": "ZaD2V4dEg33d"
      },
      "outputs": [],
      "source": [
        "history_GRU = model4.fit(\n",
        "    xtrain, ytrain,\n",
        "    epochs = 7,\n",
        "    batch_size = 32,\n",
        "    validation_data = (xval, yval),\n",
        "    verbose = 1,\n",
        "    callbacks = [reduce_lr, checkpoint]\n",
        ")"
      ]
    },
    {
      "cell_type": "code",
      "execution_count": null,
      "metadata": {
        "id": "GOgg8IKXbtFd"
      },
      "outputs": [],
      "source": [
        "ytest"
      ]
    },
    {
      "cell_type": "code",
      "execution_count": null,
      "metadata": {
        "id": "MaVN-YxTgymF"
      },
      "outputs": [],
      "source": [
        "y_preds = (model4.predict(xtest)>0.5)\n",
        "print(\"\\nClassification Report : \")\n",
        "print(classification_report(ytest, y_preds, target_names=target_classes))\n",
        "metrics.confusion_matrix(ytest, y_preds)"
      ]
    },
    {
      "cell_type": "code",
      "execution_count": null,
      "metadata": {
        "id": "CnqSjHMoP8-X"
      },
      "outputs": [],
      "source": [
        "accr = accuracy_score(ytest,y_preds)\n",
        "prec = precision_score(ytest, y_preds, average='weighted')\n",
        "rec = recall_score(ytest, y_preds, average='weighted')\n",
        "f1 = f1_score(ytest, y_preds, average='weighted')\n",
        "scored_model_countvectorizer.append({'Model': 'GRU','Precision': prec,'Accuracy':accr,'Recall':rec,'f1':f1})"
      ]
    },
    {
      "cell_type": "markdown",
      "metadata": {
        "id": "WS5PVIkaFEWj"
      },
      "source": [
        "GLOVE EMBEDDING"
      ]
    },
    {
      "cell_type": "markdown",
      "metadata": {
        "id": "tGu-N-mZoJuL"
      },
      "source": []
    },
    {
      "cell_type": "code",
      "execution_count": null,
      "metadata": {
        "id": "De-i9_u0FoOg"
      },
      "outputs": [],
      "source": [
        "token = text.Tokenizer(num_words=None)\n",
        "token.fit_on_texts(X)\n",
        "vocab=len(token.word_index)+1\n",
        "word_index = token.word_index"
      ]
    },
    {
      "cell_type": "code",
      "execution_count": null,
      "metadata": {
        "colab": {
          "base_uri": "https://localhost:8080/"
        },
        "id": "KezfBgBWF1bC",
        "outputId": "2afe314d-e0d7-4424-e0ba-2d5b48722067"
      },
      "outputs": [
        {
          "name": "stderr",
          "output_type": "stream",
          "text": [
            "2196018it [03:37, 10113.44it/s]\n"
          ]
        }
      ],
      "source": [
        "embeddings_index = {}\n",
        "f = open('/content/drive/MyDrive/glove.840B.300d.txt','r',encoding='utf-8')\n",
        "for line in tqdm(f):\n",
        "    values = line.split(' ')\n",
        "    word = values[0]\n",
        "    coefs = np.asarray([float(val) for val in values[1:]])\n",
        "    embeddings_index[word] = coefs\n",
        "f.close()"
      ]
    },
    {
      "cell_type": "code",
      "execution_count": null,
      "metadata": {
        "colab": {
          "base_uri": "https://localhost:8080/"
        },
        "id": "_Bwh24wZFBa0",
        "outputId": "c1177d5c-9b7a-411f-ae1b-b359321ceaf2"
      },
      "outputs": [
        {
          "name": "stderr",
          "output_type": "stream",
          "text": [
            "100%|██████████| 6235/6235 [00:00<00:00, 236324.98it/s]\n"
          ]
        }
      ],
      "source": [
        "embedding_matrix = np.zeros((len(word_index) + 1, 300))\n",
        "for word  , i in tqdm(word_index.items()):\n",
        "    embedding_vector = embeddings_index.get(word)\n",
        "    if embedding_vector is not None:\n",
        "        embedding_matrix[i] = embedding_vector"
      ]
    },
    {
      "cell_type": "code",
      "execution_count": null,
      "metadata": {
        "id": "JdYgxfJKnfcp"
      },
      "outputs": [],
      "source": [
        "embedding_matrix"
      ]
    },
    {
      "cell_type": "code",
      "execution_count": null,
      "metadata": {
        "id": "GPWAR8rUHM8n"
      },
      "outputs": [],
      "source": [
        "embedding_matrix.shape"
      ]
    },
    {
      "cell_type": "code",
      "execution_count": null,
      "metadata": {
        "id": "avMMUyrenaZA"
      },
      "outputs": [],
      "source": [
        "Y.shape"
      ]
    },
    {
      "cell_type": "code",
      "execution_count": null,
      "metadata": {
        "id": "wZTnFwmMmJb-"
      },
      "outputs": [],
      "source": [
        "def GRU_MODEL_GLOVE():\n",
        "     model = Sequential()\n",
        "     model.add(Embedding(len(word_index) + 1,\n",
        "                     300,\n",
        "                     weights=[embedding_matrix],\n",
        "                     input_length=max_len,\n",
        "                     trainable=False))\n",
        "     model.add(GRU(300))\n",
        "     model.add(Dense(256,name='FC1'))\n",
        "     model.add(Activation('relu'))\n",
        "     model.add(Dropout(0.7))\n",
        "     model.add(Dense(1,name='out_layer'))\n",
        "     model.add(Activation('sigmoid')) \n",
        "     return model"
      ]
    },
    {
      "cell_type": "code",
      "execution_count": null,
      "metadata": {
        "colab": {
          "base_uri": "https://localhost:8080/"
        },
        "id": "5_RXgPR1OSW9",
        "outputId": "172963db-7997-429a-89ee-3aab8fece392"
      },
      "outputs": [
        {
          "name": "stdout",
          "output_type": "stream",
          "text": [
            "Model: \"sequential_2\"\n",
            "_________________________________________________________________\n",
            " Layer (type)                Output Shape              Param #   \n",
            "=================================================================\n",
            " embedding_2 (Embedding)     (None, 150, 300)          1870800   \n",
            "                                                                 \n",
            " gru_2 (GRU)                 (None, 300)               541800    \n",
            "                                                                 \n",
            " FC1 (Dense)                 (None, 256)               77056     \n",
            "                                                                 \n",
            " activation_4 (Activation)   (None, 256)               0         \n",
            "                                                                 \n",
            " dropout_2 (Dropout)         (None, 256)               0         \n",
            "                                                                 \n",
            " out_layer (Dense)           (None, 1)                 257       \n",
            "                                                                 \n",
            " activation_5 (Activation)   (None, 1)                 0         \n",
            "                                                                 \n",
            "=================================================================\n",
            "Total params: 2,489,913\n",
            "Trainable params: 619,113\n",
            "Non-trainable params: 1,870,800\n",
            "_________________________________________________________________\n"
          ]
        }
      ],
      "source": [
        "model5 = GRU_MODEL_GLOVE()\n",
        "model5.summary()\n",
        "model5.compile(loss='binary_crossentropy',optimizer=RMSprop(learning_rate=0.0001, rho=0.9),metrics=['accuracy'])"
      ]
    },
    {
      "cell_type": "code",
      "execution_count": null,
      "metadata": {
        "colab": {
          "base_uri": "https://localhost:8080/"
        },
        "id": "_iwkjuh7OcKh",
        "outputId": "7a78d227-5d0d-479a-d301-d2937d9e56d4"
      },
      "outputs": [
        {
          "name": "stdout",
          "output_type": "stream",
          "text": [
            "Epoch 1/20\n",
            "242/242 [==============================] - 6s 17ms/step - loss: 0.4954 - accuracy: 0.7618 - val_loss: 0.3569 - val_accuracy: 0.8565 - lr: 1.0000e-04\n",
            "Epoch 2/20\n",
            "242/242 [==============================] - 3s 14ms/step - loss: 0.3158 - accuracy: 0.8749 - val_loss: 0.3163 - val_accuracy: 0.8819 - lr: 1.0000e-04\n",
            "Epoch 3/20\n",
            "242/242 [==============================] - 3s 13ms/step - loss: 0.2766 - accuracy: 0.8911 - val_loss: 0.2809 - val_accuracy: 0.8943 - lr: 1.0000e-04\n",
            "Epoch 4/20\n",
            "242/242 [==============================] - 3s 13ms/step - loss: 0.2516 - accuracy: 0.9014 - val_loss: 0.2646 - val_accuracy: 0.8953 - lr: 1.0000e-04\n",
            "Epoch 5/20\n",
            "242/242 [==============================] - 3s 14ms/step - loss: 0.2305 - accuracy: 0.9136 - val_loss: 0.2489 - val_accuracy: 0.9109 - lr: 1.0000e-04\n",
            "Epoch 6/20\n",
            "242/242 [==============================] - 3s 14ms/step - loss: 0.2147 - accuracy: 0.9183 - val_loss: 0.3010 - val_accuracy: 0.8824 - lr: 1.0000e-04\n",
            "Epoch 7/20\n",
            "242/242 [==============================] - 4s 15ms/step - loss: 0.1952 - accuracy: 0.9234 - val_loss: 0.2351 - val_accuracy: 0.9093 - lr: 1.0000e-04\n",
            "Epoch 8/20\n",
            "242/242 [==============================] - 4s 15ms/step - loss: 0.1782 - accuracy: 0.9313 - val_loss: 0.2388 - val_accuracy: 0.9083 - lr: 1.0000e-04\n",
            "Epoch 9/20\n",
            "242/242 [==============================] - 3s 14ms/step - loss: 0.1594 - accuracy: 0.9394 - val_loss: 0.2184 - val_accuracy: 0.9192 - lr: 1.0000e-04\n",
            "Epoch 10/20\n",
            "242/242 [==============================] - 4s 16ms/step - loss: 0.1454 - accuracy: 0.9473 - val_loss: 0.2562 - val_accuracy: 0.9093 - lr: 1.0000e-04\n",
            "Epoch 11/20\n",
            "242/242 [==============================] - 4s 15ms/step - loss: 0.1302 - accuracy: 0.9535 - val_loss: 0.2219 - val_accuracy: 0.9233 - lr: 1.0000e-04\n",
            "Epoch 12/20\n",
            "242/242 [==============================] - 3s 13ms/step - loss: 0.1184 - accuracy: 0.9585 - val_loss: 0.2185 - val_accuracy: 0.9233 - lr: 1.0000e-04\n"
          ]
        }
      ],
      "source": [
        "history_GL_GRU = model5.fit(\n",
        "    xtrain, ytrain,\n",
        "    epochs = 20,\n",
        "    batch_size = 32,\n",
        "    validation_data = (xval, yval),\n",
        "    verbose = 1,\n",
        "    callbacks = [reduce_lr, checkpoint,early_stopper]\n",
        ")"
      ]
    },
    {
      "cell_type": "code",
      "execution_count": null,
      "metadata": {
        "colab": {
          "base_uri": "https://localhost:8080/"
        },
        "id": "xJmXGWwxPLvQ",
        "outputId": "4cf5f728-4eb8-4c28-c6a7-26ff28dbbba4"
      },
      "outputs": [
        {
          "name": "stdout",
          "output_type": "stream",
          "text": [
            "61/61 [==============================] - 0s 7ms/step\n",
            "\n",
            "Classification Report : \n",
            "              precision    recall  f1-score   support\n",
            "\n",
            "         Ham       0.92      0.92      0.92       965\n",
            "        Spam       0.92      0.92      0.92       965\n",
            "\n",
            "    accuracy                           0.92      1930\n",
            "   macro avg       0.92      0.92      0.92      1930\n",
            "weighted avg       0.92      0.92      0.92      1930\n",
            "\n"
          ]
        },
        {
          "data": {
            "text/plain": [
              "array([[884,  81],\n",
              "       [ 75, 890]])"
            ]
          },
          "execution_count": 41,
          "metadata": {},
          "output_type": "execute_result"
        }
      ],
      "source": [
        "y_preds = (model5.predict(xtest)>0.5)\n",
        "print(\"\\nClassification Report : \")\n",
        "print(classification_report(ytest, y_preds, target_names=target_classes))\n",
        "metrics.confusion_matrix(ytest, y_preds)"
      ]
    },
    {
      "cell_type": "code",
      "execution_count": null,
      "metadata": {
        "colab": {
          "base_uri": "https://localhost:8080/",
          "height": 318
        },
        "id": "IZ4nRCbccQ7t",
        "outputId": "91bdcec3-ef94-45b6-a330-56f3c5406d4e"
      },
      "outputs": [
        {
          "data": {
            "image/png": "[encoded data removed]",
            "text/plain": [
              "<Figure size 2000x500 with 2 Axes>"
            ]
          },
          "metadata": {},
          "output_type": "display_data"
        }
      ],
      "source": [
        "plot_learning_curves(history_GL_GRU, [['loss', 'val_loss'],['accuracy', 'val_accuracy']])"
      ]
    },
    {
      "cell_type": "code",
      "execution_count": null,
      "metadata": {
        "id": "ngb5COeVQDa8"
      },
      "outputs": [],
      "source": [
        "scored_model_glove=[]"
      ]
    },
    {
      "cell_type": "code",
      "execution_count": null,
      "metadata": {
        "id": "wqS53bwaQCHg"
      },
      "outputs": [],
      "source": [
        "accr = accuracy_score(ytest,y_preds)\n",
        "prec = precision_score(ytest, y_preds, average='weighted')\n",
        "rec = recall_score(ytest, y_preds, average='weighted')\n",
        "f1 = f1_score(ytest, y_preds, average='weighted')\n",
        "scored_model_glove.append({'Model': 'GRU','Precision': prec,'Accuracy':accr,'Recall':rec,'f1':f1})"
      ]
    },
    {
      "cell_type": "code",
      "execution_count": null,
      "metadata": {
        "id": "NieuxNfUUzn-"
      },
      "outputs": [],
      "source": [
        "def LSTM_MODEL_GLOVE():\n",
        "     model = Sequential()\n",
        "     model.add(Embedding(len(word_index) + 1,\n",
        "                     300,\n",
        "                     weights=[embedding_matrix],\n",
        "                     input_length=max_len,\n",
        "                     trainable=False))\n",
        "     model.add(LSTM(64))\n",
        "     model.add(Dense(256,name='FC1'))\n",
        "     model.add(Activation('relu'))\n",
        "     model.add(Dropout(0.7))\n",
        "     model.add(Dense(1,name='out_layer'))\n",
        "     model.add(Activation('sigmoid')) \n",
        "     return model"
      ]
    },
    {
      "cell_type": "code",
      "execution_count": null,
      "metadata": {
        "colab": {
          "base_uri": "https://localhost:8080/"
        },
        "id": "Na9j0ynkU73Y",
        "outputId": "5bc3836a-5c83-4d16-e20c-a3d84cda3664"
      },
      "outputs": [
        {
          "name": "stdout",
          "output_type": "stream",
          "text": [
            "Model: \"sequential_7\"\n",
            "_________________________________________________________________\n",
            " Layer (type)                Output Shape              Param #   \n",
            "=================================================================\n",
            " embedding_7 (Embedding)     (None, 150, 300)          1870800   \n",
            "                                                                 \n",
            " lstm_4 (LSTM)               (None, 64)                93440     \n",
            "                                                                 \n",
            " FC1 (Dense)                 (None, 256)               16640     \n",
            "                                                                 \n",
            " activation_14 (Activation)  (None, 256)               0         \n",
            "                                                                 \n",
            " dropout_7 (Dropout)         (None, 256)               0         \n",
            "                                                                 \n",
            " out_layer (Dense)           (None, 1)                 257       \n",
            "                                                                 \n",
            " activation_15 (Activation)  (None, 1)                 0         \n",
            "                                                                 \n",
            "=================================================================\n",
            "Total params: 1,981,137\n",
            "Trainable params: 110,337\n",
            "Non-trainable params: 1,870,800\n",
            "_________________________________________________________________\n"
          ]
        }
      ],
      "source": [
        "model6 = LSTM_MODEL_GLOVE()\n",
        "model6.summary()\n",
        "model6.compile(loss='binary_crossentropy',optimizer=RMSprop(learning_rate=0.0001, rho=0.9),metrics=['accuracy'])"
      ]
    },
    {
      "cell_type": "code",
      "execution_count": null,
      "metadata": {
        "colab": {
          "base_uri": "https://localhost:8080/"
        },
        "id": "WMqbB1wxfr_O",
        "outputId": "b6f98dbb-8504-4f8e-d1de-4d8092be77d3"
      },
      "outputs": [
        {
          "data": {
            "text/plain": [
              "(7720, 150)"
            ]
          },
          "execution_count": 58,
          "metadata": {},
          "output_type": "execute_result"
        }
      ],
      "source": [
        "xtrain.shape"
      ]
    },
    {
      "cell_type": "code",
      "execution_count": null,
      "metadata": {
        "colab": {
          "base_uri": "https://localhost:8080/"
        },
        "id": "5dDtXhfKU_up",
        "outputId": "7c0f62b1-397a-4ef3-8385-1734f1626284"
      },
      "outputs": [
        {
          "name": "stdout",
          "output_type": "stream",
          "text": [
            "Epoch 1/10\n",
            "242/242 [==============================] - 5s 14ms/step - loss: 0.5890 - accuracy: 0.7124 - val_loss: 0.4443 - val_accuracy: 0.8435 - lr: 1.0000e-04\n",
            "Epoch 2/10\n",
            "242/242 [==============================] - 2s 10ms/step - loss: 0.3747 - accuracy: 0.8610 - val_loss: 0.3554 - val_accuracy: 0.8663 - lr: 1.0000e-04\n",
            "Epoch 3/10\n",
            "242/242 [==============================] - 2s 10ms/step - loss: 0.3263 - accuracy: 0.8734 - val_loss: 0.3255 - val_accuracy: 0.8777 - lr: 1.0000e-04\n",
            "Epoch 4/10\n",
            "242/242 [==============================] - 2s 9ms/step - loss: 0.3007 - accuracy: 0.8799 - val_loss: 0.3066 - val_accuracy: 0.8850 - lr: 1.0000e-04\n",
            "Epoch 5/10\n",
            "242/242 [==============================] - 2s 9ms/step - loss: 0.2750 - accuracy: 0.8918 - val_loss: 0.2829 - val_accuracy: 0.8938 - lr: 1.0000e-04\n",
            "Epoch 6/10\n",
            "242/242 [==============================] - 3s 11ms/step - loss: 0.2550 - accuracy: 0.9016 - val_loss: 0.2679 - val_accuracy: 0.8974 - lr: 1.0000e-04\n",
            "Epoch 7/10\n",
            "242/242 [==============================] - 3s 11ms/step - loss: 0.2403 - accuracy: 0.9065 - val_loss: 0.2525 - val_accuracy: 0.9098 - lr: 1.0000e-04\n",
            "Epoch 8/10\n",
            "242/242 [==============================] - 2s 9ms/step - loss: 0.2238 - accuracy: 0.9161 - val_loss: 0.2400 - val_accuracy: 0.9161 - lr: 1.0000e-04\n",
            "Epoch 9/10\n",
            "242/242 [==============================] - 2s 9ms/step - loss: 0.2074 - accuracy: 0.9242 - val_loss: 0.2391 - val_accuracy: 0.9109 - lr: 1.0000e-04\n",
            "Epoch 10/10\n",
            "242/242 [==============================] - 2s 10ms/step - loss: 0.1942 - accuracy: 0.9267 - val_loss: 0.2235 - val_accuracy: 0.9197 - lr: 1.0000e-04\n"
          ]
        }
      ],
      "source": [
        "history_GL_LSTM = model6.fit(\n",
        "    xtrain, ytrain,\n",
        "    epochs = 10,\n",
        "    batch_size = 32,\n",
        "    validation_data = (xval, yval),\n",
        "    verbose = 1,\n",
        "    callbacks = [reduce_lr, checkpoint,early_stopper]\n",
        ")"
      ]
    },
    {
      "cell_type": "code",
      "execution_count": null,
      "metadata": {
        "colab": {
          "base_uri": "https://localhost:8080/"
        },
        "id": "c7046dzjVVSc",
        "outputId": "0db58492-f047-427b-8365-da013125e9a9"
      },
      "outputs": [
        {
          "name": "stdout",
          "output_type": "stream",
          "text": [
            "61/61 [==============================] - 1s 5ms/step\n",
            "\n",
            "Classification Report : \n",
            "              precision    recall  f1-score   support\n",
            "\n",
            "         Ham       0.91      0.93      0.92       965\n",
            "        Spam       0.93      0.91      0.92       965\n",
            "\n",
            "    accuracy                           0.92      1930\n",
            "   macro avg       0.92      0.92      0.92      1930\n",
            "weighted avg       0.92      0.92      0.92      1930\n",
            "\n"
          ]
        },
        {
          "data": {
            "text/plain": [
              "array([[901,  64],\n",
              "       [ 91, 874]])"
            ]
          },
          "execution_count": 70,
          "metadata": {},
          "output_type": "execute_result"
        }
      ],
      "source": [
        "y_preds = (model6.predict(xtest)>0.5)\n",
        "print(\"\\nClassification Report : \")\n",
        "print(classification_report(ytest, y_preds, target_names=target_classes))\n",
        "metrics.confusion_matrix(ytest, y_preds)"
      ]
    },
    {
      "cell_type": "code",
      "execution_count": null,
      "metadata": {
        "colab": {
          "base_uri": "https://localhost:8080/",
          "height": 410
        },
        "id": "HAzUJyxpjy1C",
        "outputId": "fdfe37b1-5c18-4631-8418-78a684cbea33"
      },
      "outputs": [
        {
          "data": {
            "image/png": "[encoded data removed]",
            "text/plain": [
              "<Figure size 600x400 with 2 Axes>"
            ]
          },
          "metadata": {},
          "output_type": "display_data"
        }
      ],
      "source": [
        "cm=metrics.confusion_matrix(ytest, y_preds)\n",
        "plt.figure(figsize=(6, 4))\n",
        "sns.heatmap(cm, annot=True, fmt=\"d\", cmap=\"Blues\")\n",
        "plt.title(\"Confusion Matrix\")\n",
        "plt.xlabel(\"Predicted Labels\")\n",
        "plt.ylabel(\"True Labels\")\n",
        "plt.show()"
      ]
    },
    {
      "cell_type": "code",
      "execution_count": null,
      "metadata": {
        "colab": {
          "base_uri": "https://localhost:8080/",
          "height": 515
        },
        "id": "mv_z-5jsffH-",
        "outputId": "7513df8c-128e-471d-a42a-e6bfb9dc5ce9"
      },
      "outputs": [
        {
          "data": {
            "image/png": "[encoded data removed]",
            "text/plain": [
              "<Figure size 2000x500 with 2 Axes>"
            ]
          },
          "metadata": {},
          "output_type": "display_data"
        }
      ],
      "source": [
        "plot_learning_curves(history_GL_LSTM, [['loss', 'val_loss'],['accuracy', 'val_accuracy']])"
      ]
    },
    {
      "cell_type": "code",
      "execution_count": null,
      "metadata": {
        "id": "DETJm4H3QJVL"
      },
      "outputs": [],
      "source": [
        "accr = accuracy_score(ytest,y_preds)\n",
        "prec = precision_score(ytest, y_preds, average='weighted')\n",
        "rec = recall_score(ytest, y_preds, average='weighted')\n",
        "f1 = f1_score(ytest, y_preds, average='weighted')\n",
        "scored_model_glove.append({'Model': 'LSTM','Precision': prec,'Accuracy':accr,'Recall':rec,'f1':f1})"
      ]
    },
    {
      "cell_type": "code",
      "execution_count": null,
      "metadata": {
        "id": "-8NXodUYVa7P"
      },
      "outputs": [],
      "source": [
        "pd.DataFrame(scored_model_texttosequence)"
      ]
    },
    {
      "cell_type": "code",
      "execution_count": null,
      "metadata": {
        "id": "EHq0k7aCeabc"
      },
      "outputs": [],
      "source": [
        "pd.DataFrame(scored_model_countvectorizer)"
      ]
    },
    {
      "cell_type": "code",
      "execution_count": null,
      "metadata": {
        "colab": {
          "base_uri": "https://localhost:8080/",
          "height": 112
        },
        "id": "p4lhc7fUeYFQ",
        "outputId": "11eb17ba-6928-42b2-ec70-11fa45acf00f"
      },
      "outputs": [
        {
          "data": {
            "text/html": [
              "\n",
              "  <div id=\"df-473b15d0-445f-4bb9-870a-a9bc6b333ef4\">\n",
              "    <div class=\"colab-df-container\">\n",
              "      <div>\n",
              "<style scoped>\n",
              "    .dataframe tbody tr th:only-of-type {\n",
              "        vertical-align: middle;\n",
              "    }\n",
              "\n",
              "    .dataframe tbody tr th {\n",
              "        vertical-align: top;\n",
              "    }\n",
              "\n",
              "    .dataframe thead th {\n",
              "        text-align: right;\n",
              "    }\n",
              "</style>\n",
              "<table border=\"1\" class=\"dataframe\">\n",
              "  <thead>\n",
              "    <tr style=\"text-align: right;\">\n",
              "      <th></th>\n",
              "      <th>Model</th>\n",
              "      <th>Precision</th>\n",
              "      <th>Accuracy</th>\n",
              "      <th>Recall</th>\n",
              "      <th>f1</th>\n",
              "    </tr>\n",
              "  </thead>\n",
              "  <tbody>\n",
              "    <tr>\n",
              "      <th>0</th>\n",
              "      <td>GRU</td>\n",
              "      <td>0.919187</td>\n",
              "      <td>0.919171</td>\n",
              "      <td>0.919171</td>\n",
              "      <td>0.919170</td>\n",
              "    </tr>\n",
              "    <tr>\n",
              "      <th>1</th>\n",
              "      <td>LSTM</td>\n",
              "      <td>0.920018</td>\n",
              "      <td>0.919689</td>\n",
              "      <td>0.919689</td>\n",
              "      <td>0.919673</td>\n",
              "    </tr>\n",
              "  </tbody>\n",
              "</table>\n",
              "</div>\n",
              "      <button class=\"colab-df-convert\" onclick=\"convertToInteractive('df-473b15d0-445f-4bb9-870a-a9bc6b333ef4')\"\n",
              "              title=\"Convert this dataframe to an interactive table.\"\n",
              "              style=\"display:none;\">\n",
              "        \n",
              "  <svg xmlns=\"http://www.w3.org/2000/svg\" height=\"24px\"viewBox=\"0 0 24 24\"\n",
              "       width=\"24px\">\n",
              "    <path d=\"M0 0h24v24H0V0z\" fill=\"none\"/>\n",
              "    <path d=\"M18.56 5.44l.94 2.06.94-2.06 2.06-.94-2.06-.94-.94-2.06-.94 2.06-2.06.94zm-11 1L8.5 8.5l.94-2.06 2.06-.94-2.06-.94L8.5 2.5l-.94 2.06-2.06.94zm10 10l.94 2.06.94-2.06 2.06-.94-2.06-.94-.94-2.06-.94 2.06-2.06.94z\"/><path d=\"M17.41 7.96l-1.37-1.37c-.4-.4-.92-.59-1.43-.59-.52 0-1.04.2-1.43.59L10.3 9.45l-7.72 7.72c-.78.78-.78 2.05 0 2.83L4 21.41c.39.39.9.59 1.41.59.51 0 1.02-.2 1.41-.59l7.78-7.78 2.81-2.81c.8-.78.8-2.07 0-2.86zM5.41 20L4 18.59l7.72-7.72 1.47 1.35L5.41 20z\"/>\n",
              "  </svg>\n",
              "      </button>\n",
              "      \n",
              "  <style>\n",
              "    .colab-df-container {\n",
              "      display:flex;\n",
              "      flex-wrap:wrap;\n",
              "      gap: 12px;\n",
              "    }\n",
              "\n",
              "    .colab-df-convert {\n",
              "      background-color: #E8F0FE;\n",
              "      border: none;\n",
              "      border-radius: 50%;\n",
              "      cursor: pointer;\n",
              "      display: none;\n",
              "      fill: #1967D2;\n",
              "      height: 32px;\n",
              "      padding: 0 0 0 0;\n",
              "      width: 32px;\n",
              "    }\n",
              "\n",
              "    .colab-df-convert:hover {\n",
              "      background-color: #E2EBFA;\n",
              "      box-shadow: 0px 1px 2px rgba(60, 64, 67, 0.3), 0px 1px 3px 1px rgba(60, 64, 67, 0.15);\n",
              "      fill: #174EA6;\n",
              "    }\n",
              "\n",
              "    [theme=dark] .colab-df-convert {\n",
              "      background-color: #3B4455;\n",
              "      fill: #D2E3FC;\n",
              "    }\n",
              "\n",
              "    [theme=dark] .colab-df-convert:hover {\n",
              "      background-color: #434B5C;\n",
              "      box-shadow: 0px 1px 3px 1px rgba(0, 0, 0, 0.15);\n",
              "      filter: drop-shadow(0px 1px 2px rgba(0, 0, 0, 0.3));\n",
              "      fill: #FFFFFF;\n",
              "    }\n",
              "  </style>\n",
              "\n",
              "      <script>\n",
              "        const buttonEl =\n",
              "          document.querySelector('#df-473b15d0-445f-4bb9-870a-a9bc6b333ef4 button.colab-df-convert');\n",
              "        buttonEl.style.display =\n",
              "          google.colab.kernel.accessAllowed ? 'block' : 'none';\n",
              "\n",
              "        async function convertToInteractive(key) {\n",
              "          const element = document.querySelector('#df-473b15d0-445f-4bb9-870a-a9bc6b333ef4');\n",
              "          const dataTable =\n",
              "            await google.colab.kernel.invokeFunction('convertToInteractive',\n",
              "                                                     [key], {});\n",
              "          if (!dataTable) return;\n",
              "\n",
              "          const docLinkHtml = 'Like what you see? Visit the ' +\n",
              "            '<a target=\"_blank\" href=https://colab.research.google.com/notebooks/data_table.ipynb>data table notebook</a>'\n",
              "            + ' to learn more about interactive tables.';\n",
              "          element.innerHTML = '';\n",
              "          dataTable['output_type'] = 'display_data';\n",
              "          await google.colab.output.renderOutput(dataTable, element);\n",
              "          const docLink = document.createElement('div');\n",
              "          docLink.innerHTML = docLinkHtml;\n",
              "          element.appendChild(docLink);\n",
              "        }\n",
              "      </script>\n",
              "    </div>\n",
              "  </div>\n",
              "  "
            ],
            "text/plain": [
              "  Model  Precision  Accuracy    Recall        f1\n",
              "0   GRU   0.919187  0.919171  0.919171  0.919170\n",
              "1  LSTM   0.920018  0.919689  0.919689  0.919673"
            ]
          },
          "execution_count": 73,
          "metadata": {},
          "output_type": "execute_result"
        }
      ],
      "source": [
        "pd.DataFrame(scored_model_glove)"
      ]
    },
    {
      "cell_type": "code",
      "execution_count": null,
      "metadata": {
        "id": "WbhvmUBCfEmL"
      },
      "outputs": [],
      "source": [
        "from sklearn.naive_bayes import GaussianNB\n",
        "\n",
        "mod = \"Gaussian Naive Bayes\"\n",
        "clssF = GaussianNB() \n",
        "clssF.fit(x_train, y_train) \n",
        "Eval(y_test, clssF.predict(x_test), \"Count\" , mod)"
      ]
    },
    {
      "cell_type": "code",
      "execution_count": null,
      "metadata": {
        "id": "HZ2TkyR5o2fB"
      },
      "outputs": [],
      "source": [
        "from gensim.models import KeyedVectors"
      ]
    },
    {
      "cell_type": "code",
      "execution_count": null,
      "metadata": {
        "id": "IZyGn5Z1KSbB"
      },
      "outputs": [],
      "source": [
        "import gensim\n",
        "import os\n",
        "import shutil\n",
        "import hashlib\n",
        "from sys import platform\n",
        "\n",
        "def getFileLineNums(filename):\n",
        "    f = open(filename, 'r')\n",
        "    count = 0\n",
        "    for line in f:\n",
        "        count += 1\n",
        "    return count\n",
        "\n",
        "\n",
        "def prepend_line(infile, outfile, line):\n",
        "    with open(infile, 'r') as old:\n",
        "        with open(outfile, 'w') as new:\n",
        "            new.write(str(line) + \"\\n\")\n",
        "            shutil.copyfileobj(old, new)\n",
        "\n",
        "def prepend_slow(infile, outfile, line):\n",
        "    with open(infile, 'r') as fin:\n",
        "        with open(outfile, 'w') as fout:\n",
        "            fout.write(line + \"\\n\")\n",
        "            for line in fin:\n",
        "                fout.write(line)\n",
        "\n",
        "def load(filename):\n",
        "    num_lines = getFileLineNums(filename)\n",
        "    gensim_file = 'glove_model.txt'\n",
        "    gensim_first_line = \"{} {}\".format(num_lines, 300)\n",
        "    # Prepends the line.\n",
        "    if platform == \"linux\" or platform == \"linux2\":\n",
        "        prepend_line(filename, gensim_file, gensim_first_line)\n",
        "    else:\n",
        "        prepend_slow(filename, gensim_file, gensim_first_line)\n",
        "\n",
        "    model = gensim.models.KeyedVectors.load_word2vec_format(gensim_file)\n",
        "    return model\n",
        "model = load('/content/drive/MyDrive/kaggle/glove.840B.300d.txt')"
      ]
    },
    {
      "cell_type": "code",
      "execution_count": null,
      "metadata": {
        "id": "rqzb-AJ5oj1z"
      },
      "outputs": [],
      "source": [
        "# Load pre-trained GloVe embeddings\n",
        "# glove_model = KeyedVectors.load_word2vec_format('//content/drive/MyDrive/kaggle/glove.840B.300d.txt', binary=False)\n",
        "\n",
        "# Define a function to calculate the mean GloVe embedding for a document\n",
        "def get_mean_embedding(document):\n",
        "    tokens = document.split()\n",
        "    embeddings = [model[token] for token in tokens if token in model.key_to_index]\n",
        "    if len(embeddings) > 0:\n",
        "        return np.mean(embeddings, axis=0)\n",
        "    else:\n",
        "        return np.zeros(model.vector_size)"
      ]
    },
    {
      "cell_type": "code",
      "execution_count": null,
      "metadata": {
        "id": "7O9yg1AlK3fn"
      },
      "outputs": [],
      "source": [
        "from sklearn.naive_bayes import GaussianNB\n",
        "embeddings = df['v2'].apply(get_mean_embedding).to_list()\n",
        "\n",
        "X = np.array(embeddings)\n",
        "\n",
        "# Convert the labels to a numpy array\n",
        "y = np.array(df['v1'])\n",
        "\n",
        "# Split the data into training and testing sets\n",
        "train_size = int(len(df) * 0.8)\n",
        "X_train, X_test = X[:train_size], X[train_size:]\n",
        "y_train, y_test = y[:train_size], y[train_size:]\n",
        "\n",
        "# Train a Gaussian Naive Bayes classifier on the training data\n",
        "gnb = GaussianNB()\n",
        "gnb.fit(X_train, y_train)"
      ]
    },
    {
      "cell_type": "code",
      "execution_count": null,
      "metadata": {
        "id": "GYKms4EqLHnf"
      },
      "outputs": [],
      "source": [
        "accuracy = gnb.score(X_test, y_test)\n",
        "print(f\"Accuracy: {accuracy}\")\n"
      ]
    },
    {
      "cell_type": "code",
      "execution_count": null,
      "metadata": {
        "id": "Dqh8NlQ6LIJS"
      },
      "outputs": [],
      "source": [
        "accuracy = gnb.(X_test, y_test)\n",
        "print(f\"Accuracy: {accuracy}\")"
      ]
    },
    {
      "cell_type": "code",
      "execution_count": null,
      "metadata": {
        "id": "b6jslD8cOp_P"
      },
      "outputs": [],
      "source": [
        "X_test"
      ]
    },
    {
      "cell_type": "code",
      "execution_count": null,
      "metadata": {
        "id": "Y6yQnmXQLcyT"
      },
      "outputs": [],
      "source": [
        "y_preds = (gnb.predict(X_test)>0.5)"
      ]
    },
    {
      "cell_type": "code",
      "execution_count": null,
      "metadata": {
        "id": "2iIffyywLZIN"
      },
      "outputs": [],
      "source": [
        "accr = accuracy_score(ytest,y_preds)\n",
        "prec = precision_score(ytest, y_preds, average='weighted')\n",
        "rec = recall_score(ytest, y_preds, average='weighted')\n",
        "f1 = f1_score(ytest, y_preds, average='weighted')\n",
        "scored_model_glove.append({'Model': 'LSTM','Precision': prec,'Accuracy':accr,'Recall':rec,'f1':f1})"
      ]
    },
    {
      "cell_type": "code",
      "execution_count": null,
      "metadata": {
        "id": "brQvV9_UNt2V"
      },
      "outputs": [],
      "source": [
        "from sklearn.naive_bayes import GaussianNB\n",
        "import numpy as np\n",
        "import pandas as pd\n",
        "from gensim.scripts.glove2word2vec import glove2word2vec\n",
        "from gensim.models import KeyedVectors\n",
        "from sklearn.metrics import precision_score, recall_score, f1_score\n",
        "\n",
        "# Convert the GloVe embeddings to the word2vec format\n",
        "glove_input_file = '/content/drive/MyDrive/kaggle/glove.840B.300d.txt'\n",
        "word2vec_output_file = 'glove.6B.100d.word2vec.txt'\n",
        "glove2word2vec(glove_input_file, word2vec_output_file)\n",
        "\n",
        "# Load the converted GloVe embeddings\n",
        "glove_model = KeyedVectors.load_word2vec_format(word2vec_output_file, binary=False)\n",
        "\n",
        "# Define a function to calculate the mean GloVe embedding for a document\n",
        "def get_mean_embedding(document):\n",
        "    tokens = document.split()\n",
        "    embeddings = [glove_model[token] for token in tokens if token in glove_model.vocab]\n",
        "    if len(embeddings) > 0:\n",
        "        return np.mean(embeddings, axis=0)\n",
        "    else:\n",
        "        return np.zeros(glove_model.vector_size)\n",
        "\n",
        "\n"
      ]
    },
    {
      "cell_type": "code",
      "execution_count": null,
      "metadata": {
        "id": "3M1oWaqTRjh0"
      },
      "outputs": [],
      "source": [
        "# Calculate the mean GloVe embedding for each document\n",
        "embeddings = df['v2'].apply(get_mean_embedding).to_list()\n",
        "\n",
        "# Convert the embeddings to a numpy array\n",
        "X = np.array(embeddings)\n",
        "\n",
        "# Convert the labels to a numpy array\n",
        "y = np.array(df['v1'])\n",
        "\n",
        "# Split the data into training and testing sets\n",
        "train_size = int(len(df) * 0.8)\n",
        "X_train, X_test = X[:train_size], X[train_size:]\n",
        "y_train, y_test = y[:train_size], y[train_size:]\n",
        "\n",
        "# Train a Gaussian Naive Bayes classifier on the training data\n",
        "gnb = GaussianNB()\n",
        "gnb.fit(X_train, y_train)\n",
        "\n",
        "# Predict the labels for the testing data\n",
        "y_pred = gnb.predict(X_test)\n",
        "\n",
        "# Calculate precision, recall, and F1-score\n",
        "precision = precision_score(y_test, y_pred, average='weighted')\n",
        "recall = recall_score(y_test, y_pred, average='weighted')\n",
        "f1 = f1_score(y_test, y_pred, average='weighted')\n",
        "\n",
        "accuracy = gnb.score(X_test, y_test)\n",
        "print(f\"Accuracy: {accuracy}\")\n",
        "print(f\"Precision: {precision}\")\n",
        "print(f\"Recall: {recall}\")\n",
        "print(f\"F1-score: {f1}\")"
      ]
    }
  ],
  "metadata": {
    "accelerator": "GPU",
    "colab": {
      "provenance": []
    },
    "gpuClass": "standard",
    "kernelspec": {
      "display_name": "Python 3",
      "name": "python3"
    },
    "language_info": {
      "name": "python"
    }
  },
  "nbformat": 4,
  "nbformat_minor": 0
}